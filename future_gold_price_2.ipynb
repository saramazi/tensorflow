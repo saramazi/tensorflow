{
 "cells": [
  {
   "cell_type": "code",
   "execution_count": 44,
   "metadata": {
    "collapsed": false,
    "deletable": true,
    "editable": true
   },
   "outputs": [
    {
     "name": "stdout",
     "output_type": "stream",
     "text": [
      "('Trainning Data: ', 509)\n",
      "('Validation Data: ', 20)\n"
     ]
    }
   ],
   "source": [
    "import sys\n",
    "import quandl\n",
    "import pandas\n",
    "import numpy as np\n",
    "import tensorflow as tf\n",
    "\n",
    "quandl.ApiConfig.api_key = 'RUQDgag1PxTWxCVRgiBB'\n",
    "\n",
    "# stock ndexes\n",
    "item_list = [\"YAHOO/INDEX_GSPC\",\"YAHOO/INDEX_DJI\",\"YAHOO/INDEX_IXIC\",\"YAHOO/INDEX_NYA\",\"YAHOO/INDEX_XAX\",\"YAHOO/INDEX_RUT\",\"YAHOO/INDEX_VIX\",\"YAHOO/INDEX_GDAXI\",\"YAHOO/INDEX_FCHI\",\"YAHOO/INDEX_STOXX50E\",\"YAHOO/INDEX_BFX\",\"YAHOO/INDEX_N225\",\"YAHOO/INDEX_HSI\",\"YAHOO/INDEX_STI\",\"YAHOO/INDEX_AXJO\",\"YAHOO/INDEX_AORD\",\"YAHOO/INDEX_BSESN\",\"YAHOO/INDEX_JKSE\",\"YAHOO/INDEX_NZ50\",\"YAHOO/INDEX_KS11\",\"YAHOO/INDEX_TWII\",\"YAHOO/INDEX_GSPTSE\",\"YAHOO/INDEX_BVSP\",\"YAHOO/INDEX_MXX\",\"YAHOO/INDEX_MERV\",\"YAHOO/INDEX_TA100\"]\n",
    "   \n",
    "# function\n",
    "def get_formatted_data(start_date, end_date, estimate_day):\n",
    "    # get stock data\n",
    "    for i in range(len(item_list)):\n",
    "        data = quandl.get(item_list[i], start_date=start_date, end_date=end_date)\n",
    "        data = data.loc[:,\"Adjusted Close\":\"Adjusted Close\"]\n",
    "        data.columns = [item_list[i]]\n",
    "        if i == 0:\n",
    "            stock_df = data\n",
    "        else:\n",
    "            stock_df = pandas.concat([stock_df, data], axis=1)\n",
    "\n",
    "    # get gold data and shift\n",
    "    gold_df = quandl.get(\"WGC/GOLD_DAILY_KRW\", start_date = start_date, end_date = end_date)\n",
    "    shifted_gold_df = gold_df.shift(periods = -1 * estimate_day)\n",
    "\n",
    "    # merge\n",
    "    merged_df =  pandas.concat([stock_df, shifted_gold_df], axis=1)\n",
    "    merged_df = merged_df.dropna(axis=1, how = \"all\")\n",
    "    merged_df = merged_df.dropna(axis=0, how = \"any\")\n",
    "    \n",
    "    # change data into tensorflow sytle\n",
    "    num_of_sample = len(merged_df)\n",
    "    num_of_stocks = len(merged_df.columns) - 1\n",
    "    merged_np = merged_df.as_matrix()\n",
    "    stock_np = merged_np[:,:num_of_stocks]\n",
    "    gold_np = merged_np[:,num_of_stocks:]\n",
    "    new_gold_np = []\n",
    "    for i in range(len(gold_np)):\n",
    "        if gold_np[i][0] >= 0:\n",
    "            new_gold_np.append([1, 0])\n",
    "        else:\n",
    "            new_gold_np.append([0, 1])\n",
    "\n",
    "    return stock_np, new_gold_np\n",
    "\n",
    "# parameter\n",
    "estimate_day = 1\n",
    "\n",
    "# get train data\n",
    "train_start_date = \"2014-01-01\"\n",
    "train_end_date = \"2016-12-31\"\n",
    "stock_train, gold_train = get_formatted_data(train_start_date, train_end_date, estimate_day)\n",
    "if len(stock_train) == 0:\n",
    "    print(\"No Validation Data\")\n",
    "    exit()\n",
    "else:\n",
    "    print(\"Trainning Data: \", len(stock_train))\n",
    "    \n",
    "# get valdaition data\n",
    "valid_start_date = \"2017-01-01\"\n",
    "valid_end_date = \"2017-02-20\"\n",
    "stock_valid, gold_valid = get_formatted_data(valid_start_date, valid_end_date, estimate_day)\n",
    "if len(stock_valid) == 0:\n",
    "    print(\"No Validation Data\")\n",
    "else:\n",
    "    print(\"Validation Data: \", len(stock_valid))"
   ]
  },
  {
   "cell_type": "code",
   "execution_count": 45,
   "metadata": {
    "collapsed": false,
    "deletable": true,
    "editable": true
   },
   "outputs": [],
   "source": [
    "#Plot settings\n",
    "training_epochs = 25\n",
    "learning_rate = 0.1\n",
    "display_step = 1\n",
    "\n",
    "# train and validation\n",
    "x = tf.placeholder(\"float\", [None, len(stock_train[0])])\n",
    "y = tf.placeholder(\"float\", [None, 2]) # increase or decrease\n",
    "\n",
    "# Set model weights\n",
    "W = tf.Variable(tf.zeros([len(stock_train[0]), 2]))\n",
    "b = tf.Variable(tf.zeros([2]))\n",
    "\n",
    "# Construct model\n",
    "activation = tf.nn.softmax(tf.matmul(x, W) + b) # Softmax\n",
    "\n",
    "# Minimize error using cross entropy\n",
    "cross_entropy = y * tf.log(activation)\n",
    "cost = tf.reduce_mean(-tf.reduce_sum(cross_entropy, reduction_indices = 1))\n",
    "optimizer = tf.train.GradientDescentOptimizer(learning_rate).minimize(cost)"
   ]
  },
  {
   "cell_type": "code",
   "execution_count": 46,
   "metadata": {
    "collapsed": false,
    "deletable": true,
    "editable": true
   },
   "outputs": [
    {
     "name": "stdout",
     "output_type": "stream",
     "text": [
      "('batch: 0001', 'cost= 0.034657359')\n",
      "('batch: 0002', 'cost= 0.069314718')\n",
      "('batch: 0003', 'cost= 0.103972077')\n",
      "('batch: 0004', 'cost= 0.138629436')\n",
      "('batch: 0005', 'cost= 0.173286796')\n",
      "('batch: 0006', 'cost= 0.207944155')\n",
      "('batch: 0007', 'cost= 0.242601514')\n",
      "('batch: 0008', 'cost= 0.277258873')\n",
      "('batch: 0009', 'cost= 0.311916232')\n",
      "('batch: 0010', 'cost= 0.346573591')\n",
      "('batch: 0011', 'cost= 0.381230950')\n",
      "('batch: 0012', 'cost= 0.415888309')\n",
      "('batch: 0013', 'cost= 0.450545669')\n",
      "('batch: 0014', 'cost= 0.485203028')\n",
      "('batch: 0015', 'cost= 0.519860387')\n",
      "('batch: 0016', 'cost= 0.554517746')\n",
      "('batch: 0017', 'cost= 0.589175105')\n",
      "('batch: 0018', 'cost= 0.623832464')\n",
      "('batch: 0019', 'cost= 0.658489823')\n",
      "('batch: 0020', 'cost= 0.693147182')\n",
      "Training phase finished\n",
      "('Model accuracy:', 1.0)\n"
     ]
    }
   ],
   "source": [
    "batch_size = 25\n",
    "\n",
    "# Launch the graph\n",
    "with tf.Session() as sess:\n",
    "    sess.run(tf.global_variables_initializer())\n",
    "\n",
    "    # Training cycle\n",
    "    avg_cost = 0.\n",
    "    total_batch = int(len(gold_train) / batch_size)\n",
    "    for i in range(total_batch):\n",
    "        stock_batch = stock_train[i * batch_size : (i + 1) * batch_size]\n",
    "        gold_batch = gold_train[i * batch_size : (i + 1) * batch_size]\n",
    "        # Compute average loss\n",
    "        avg_cost += sess.run(cost, { x: stock_train[i * batch_size : (i + 1) * batch_size], y: gold_train[i * batch_size : (i + 1) * batch_size] }) / total_batch\n",
    "        # Display logs per epoch step\n",
    "        print(\"batch: %04d\" % (i + 1), \"cost= {:.9f}\".format(avg_cost))\n",
    "    print(\"Training phase finished\")\n",
    "\n",
    "    # Test model\n",
    "    correct_prediction = tf.equal(tf.argmax(activation, 1), tf.argmax(y, 1))\n",
    "    # Calculate accuracy\n",
    "    accuracy = tf.reduce_mean(tf.cast(correct_prediction, \"float\"))\n",
    "    print(\"Model accuracy:\", accuracy.eval({ x: stock_valid, y: gold_valid }))"
   ]
  }
 ],
 "metadata": {
  "kernelspec": {
   "display_name": "Python 2",
   "language": "python",
   "name": "python2"
  },
  "language_info": {
   "codemirror_mode": {
    "name": "ipython",
    "version": 2
   },
   "file_extension": ".py",
   "mimetype": "text/x-python",
   "name": "python",
   "nbconvert_exporter": "python",
   "pygments_lexer": "ipython2",
   "version": "2.7.6"
  }
 },
 "nbformat": 4,
 "nbformat_minor": 2
}
