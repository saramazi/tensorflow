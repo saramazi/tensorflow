{
 "cells": [
  {
   "cell_type": "code",
   "execution_count": 8,
   "metadata": {
    "collapsed": false
   },
   "outputs": [
    {
     "name": "stdout",
     "output_type": "stream",
     "text": [
      "Extracting /tmp/data/train-images-idx3-ubyte.gz\n",
      "Extracting /tmp/data/train-labels-idx1-ubyte.gz\n",
      "Extracting /tmp/data/t10k-images-idx3-ubyte.gz\n",
      "Extracting /tmp/data/t10k-labels-idx1-ubyte.gz\n",
      "Epoch: 0001 cost= 2.215399692\n",
      "Epoch: 0002 cost= 0.577875030\n",
      "Epoch: 0003 cost= 0.381320129\n",
      "Epoch: 0004 cost= 0.280525818\n",
      "Epoch: 0005 cost= 0.214935561\n",
      "Epoch: 0006 cost= 0.167232671\n",
      "Epoch: 0007 cost= 0.132011979\n",
      "Epoch: 0008 cost= 0.103429132\n",
      "Epoch: 0009 cost= 0.082215862\n",
      "Epoch: 0010 cost= 0.064637512\n",
      "Epoch: 0011 cost= 0.050724145\n",
      "Epoch: 0012 cost= 0.040052389\n",
      "Epoch: 0013 cost= 0.031136234\n",
      "Epoch: 0014 cost= 0.023828527\n",
      "Epoch: 0015 cost= 0.018586473\n",
      "Epoch: 0016 cost= 0.014415627\n",
      "Epoch: 0017 cost= 0.011101998\n",
      "Epoch: 0018 cost= 0.008655131\n",
      "Epoch: 0019 cost= 0.006818253\n",
      "Epoch: 0020 cost= 0.005166704\n",
      "Training phase finished\n"
     ]
    },
    {
     "data": {
      "image/png": "[encoded data removed]",
      "text/plain": [
       "<matplotlib.figure.Figure at 0xc7a1518>"
      ]
     },
     "metadata": {},
     "output_type": "display_data"
    },
    {
     "name": "stdout",
     "output_type": "stream",
     "text": [
      "Model Accuracy: 0.9442\n"
     ]
    }
   ],
   "source": [
    "# Import MINST data\n",
    "from tensorflow.examples.tutorials.mnist import input_data\n",
    "mnist = input_data.read_data_sets(\"/tmp/data/\", one_hot=True)\n",
    "\n",
    "import tensorflow as tf\n",
    "import matplotlib.pyplot as plt\n",
    "\n",
    "# Parameters\n",
    "learning_rate = 0.001\n",
    "training_epochs = 20\n",
    "batch_size = 100\n",
    "display_step = 1\n",
    "\n",
    "# Network Parameters\n",
    "n_hidden_1 = 256 # 1st layer num features\n",
    "n_hidden_2 = 256 # 2nd layer num features\n",
    "n_input = 784 # MNIST data input (img shape: 28*28)\n",
    "n_classes = 10 # MNIST total classes (0-9 digits)\n",
    "\n",
    "# tf Graph input\n",
    "x = tf.placeholder(\"float\", [None, n_input])\n",
    "y = tf.placeholder(\"float\", [None, n_classes])\n",
    "\n",
    "# weights layer 1\n",
    "h = tf.Variable(tf.random_normal([n_input, n_hidden_1]))\n",
    "# bias layer 1\n",
    "bias_layer_1 = tf.Variable(tf.random_normal([n_hidden_1]))\n",
    "# layer 1\n",
    "layer_1 = tf.nn.sigmoid(tf.add(tf.matmul(x,h),bias_layer_1))\n",
    "\n",
    "# weights layer 2\n",
    "w = tf.Variable(tf.random_normal([n_hidden_1, n_hidden_2]))\n",
    "# bias layer 2\n",
    "bias_layer_2 = tf.Variable(tf.random_normal([n_hidden_2]))\n",
    "# layer 2\n",
    "layer_2 = tf.nn.sigmoid(tf.add(tf.matmul(layer_1,w),bias_layer_2))\n",
    "\n",
    "#weights output layer\n",
    "output = tf.Variable(tf.random_normal([n_hidden_2, n_classes]))\n",
    "#biar output layer\n",
    "bias_output = tf.Variable(tf.random_normal([n_classes]))\n",
    "#output layer\n",
    "output_layer = tf.matmul(layer_2, output) + bias_output\n",
    "\n",
    "# cost function\n",
    "cost = tf.reduce_mean(tf.nn.softmax_cross_entropy_with_logits(logits = output_layer, labels = y))\n",
    "# optimizer\n",
    "optimizer = tf.train.AdamOptimizer(learning_rate).minimize(cost) \n",
    "# optimizer = tf.train.GradientDescentOptimizer(learning_rate).minimize(cost)\n",
    "\n",
    "#Plot settings\n",
    "avg_set = []\n",
    "epoch_set=[]\n",
    "    \n",
    "# Launch the graph\n",
    "with tf.Session() as sess:\n",
    "    # Initializing the variables\n",
    "    sess.run(tf.global_variables_initializer())\n",
    "\n",
    "    # Training cycle\n",
    "    for epoch in range(training_epochs):\n",
    "        avg_cost = 0.\n",
    "        total_batch = int(mnist.train.num_examples / batch_size)\n",
    "        # Loop over all batches\n",
    "        for i in range(total_batch):\n",
    "            batch_xs, batch_ys = mnist.train.next_batch(batch_size)\n",
    "            # Fit training using batch data\n",
    "            sess.run(optimizer, { x: batch_xs, y: batch_ys})\n",
    "            # Compute average loss\n",
    "            avg_cost += sess.run(cost, { x: batch_xs, y: batch_ys }) / total_batch\n",
    "        # Display logs per epoch step\n",
    "        if epoch % display_step == 0:\n",
    "            print(\"Epoch:\", '%04d' % (epoch+1), \"cost=\", \"{:.9f}\".format(avg_cost))\n",
    "        avg_set.append(avg_cost)\n",
    "        epoch_set.append(epoch+1)\n",
    "    print(\"Training phase finished\")\n",
    "\n",
    "    plt.plot(epoch_set,avg_set, 'o', label='MLP Training phase')\n",
    "    plt.ylabel('cost')\n",
    "    plt.xlabel('epoch')\n",
    "    plt.legend()\n",
    "    plt.show()\n",
    "        \n",
    "    # Test model\n",
    "    correct_prediction = tf.equal(tf.argmax(output_layer, 1), tf.argmax(y, 1))\n",
    "    # Calculate accuracy\n",
    "    accuracy = tf.reduce_mean(tf.cast(correct_prediction, \"float\"))\n",
    "    print(\"Model Accuracy:\", accuracy.eval({x: mnist.test.images, y: mnist.test.labels}))\n"
   ]
  }
 ],
 "metadata": {
  "kernelspec": {
   "display_name": "Python 3",
   "language": "python",
   "name": "python3"
  },
  "language_info": {
   "codemirror_mode": {
    "name": "ipython",
    "version": 3
   },
   "file_extension": ".py",
   "mimetype": "text/x-python",
   "name": "python",
   "nbconvert_exporter": "python",
   "pygments_lexer": "ipython3",
   "version": "3.5.2"
  }
 },
 "nbformat": 4,
 "nbformat_minor": 2
}
