{
 "cells": [
  {
   "cell_type": "code",
   "execution_count": 12,
   "metadata": {
    "collapsed": false
   },
   "outputs": [
    {
     "name": "stdout",
     "output_type": "stream",
     "text": [
      "Trainning Data:  187\n",
      "Trainning Data:  25\n"
     ]
    }
   ],
   "source": [
    "import sys\n",
    "import quandl\n",
    "import pandas\n",
    "import numpy as np\n",
    "import tensorflow as tf\n",
    "\n",
    "quandl.ApiConfig.api_key = '-'\n",
    "\n",
    "# stock ndexes\n",
    "item_list = [\"YAHOO/INDEX_GSPC\",\"YAHOO/INDEX_DJI\",\"YAHOO/INDEX_IXIC\",\"YAHOO/INDEX_NYA\",\"YAHOO/INDEX_XAX\",\"YAHOO/INDEX_RUT\",\"YAHOO/INDEX_VIX\",\"YAHOO/INDEX_GDAXI\",\"YAHOO/INDEX_FCHI\",\"YAHOO/INDEX_STOXX50E\",\"YAHOO/INDEX_BFX\",\"YAHOO/INDEX_N225\",\"YAHOO/INDEX_HSI\",\"YAHOO/INDEX_STI\",\"YAHOO/INDEX_AXJO\",\"YAHOO/INDEX_AORD\",\"YAHOO/INDEX_BSESN\",\"YAHOO/INDEX_JKSE\",\"YAHOO/INDEX_NZ50\",\"YAHOO/INDEX_KS11\",\"YAHOO/INDEX_TWII\",\"YAHOO/INDEX_GSPTSE\",\"YAHOO/INDEX_BVSP\",\"YAHOO/INDEX_MXX\",\"YAHOO/INDEX_MERV\",\"YAHOO/INDEX_TA100\"]\n",
    "   \n",
    "# function\n",
    "def get_formatted_data(start_date, end_date, estimate_day):\n",
    "    # get stock data\n",
    "    for i in range(len(item_list)):\n",
    "        data = quandl.get(item_list[i], start_date=start_date, end_date=end_date, transform=\"diff\")\n",
    "        data = data.loc[:,\"Adjusted Close\":\"Adjusted Close\"]\n",
    "        data.columns = [item_list[i]]\n",
    "        if i == 0:\n",
    "            stock_df = data\n",
    "        else:\n",
    "            stock_df = pandas.concat([stock_df, data], axis=1)\n",
    "\n",
    "    # get gold data and shift\n",
    "    gold_df = quandl.get(\"WGC/GOLD_DAILY_KRW\", start_date = start_date, end_date = end_date, transform=\"diff\")\n",
    "    shifted_gold_df = gold_df.shift(periods = -1 * estimate_day)\n",
    "\n",
    "    # merge\n",
    "    merged_df =  pandas.concat([stock_df, shifted_gold_df], axis=1)\n",
    "    merged_df = merged_df.dropna(axis=1, how = \"all\")\n",
    "    merged_df = merged_df.dropna(axis=0, how = \"any\")\n",
    "    \n",
    "    # change data into tensorflow sytle\n",
    "    num_of_sample = len(merged_df)\n",
    "    num_of_stocks = len(merged_df.columns) - 1\n",
    "    merged_np = merged_df.as_matrix()\n",
    "    stock_np = merged_np[:,:num_of_stocks]\n",
    "    gold_np = merged_np[:,num_of_stocks:]\n",
    "\n",
    "    return stock_np, gold_np\n",
    "\n",
    "# parameter\n",
    "estimate_day = 1\n",
    "\n",
    "# get train data\n",
    "train_start_date = \"2015-01-01\"\n",
    "train_end_date = \"2015-12-31\"\n",
    "stock_train, gold_train = get_formatted_data(train_start_date, train_end_date, estimate_day)\n",
    "if len(stock_train) == 0:\n",
    "    print(\"No Validation Data\")\n",
    "    exit()\n",
    "else:\n",
    "    print(\"Trainning Data: \", len(stock_train))\n",
    "    \n",
    "# get valdaition data\n",
    "valid_start_date = \"2016-01-01\"\n",
    "valid_end_date = \"2016-02-28\"\n",
    "stock_valid, gold_valid = get_formatted_data(valid_start_date, valid_end_date, estimate_day)\n",
    "if len(stock_valid) == 0:\n",
    "    print(\"No Validation Data\")\n",
    "else:\n",
    "    print(\"Trainning Data: \", len(stock_valid))\n",
    "    \n",
    "# train and validation\n",
    "w = tf.Variable(tf.random_uniform([len(stock_train[0]), 1], -1.0, 1.0, dtype=tf.float64))\n",
    "b = tf.Variable(tf.zeros([1,1], dtype=tf.float64))\n",
    "y =  tf.add(tf.matmul(stock_train, w), b)\n",
    "\n",
    "cost_function = tf.reduce_mean(tf.abs(y - gold_train))\n",
    "optimizer = tf.train.GradientDescentOptimizer(0.01)\n",
    "train = optimizer.minimize(cost_function)\n",
    "diff = tf.reduce_mean(tf.abs(tf.subtract(tf.add(tf.matmul(stock_valid, w),b),gold_valid)))"
   ]
  },
  {
   "cell_type": "code",
   "execution_count": 15,
   "metadata": {
    "collapsed": false
   },
   "outputs": [
    {
     "name": "stdout",
     "output_type": "stream",
     "text": [
      "Step:   0 Reduce Mean:  14843.6787854\n",
      "Step:  10 Reduce Mean:  15062.7606335\n",
      "Step:  20 Reduce Mean:  14987.6926143\n",
      "Step:  24 Reduce Mean:  14963.9176515\n",
      "Step:  30 Reduce Mean:  14940.5710892\n",
      "Step:  40 Reduce Mean:  14896.1651498\n",
      "Step:  50 Reduce Mean:  14924.4257696\n",
      "Step:  60 Reduce Mean:  14855.4183442\n",
      "Step:  70 Reduce Mean:  14845.6076878\n",
      "Step:  80 Reduce Mean:  14846.1587676\n",
      "Step:  90 Reduce Mean:  14846.7098474\n",
      "Step: 100 Reduce Mean:  14897.1170248\n",
      "Step: 110 Reduce Mean:  14874.2102424\n",
      "Step: 120 Reduce Mean:  14905.0778978\n",
      "Step: 130 Reduce Mean:  14969.4224924\n",
      "Step: 140 Reduce Mean:  14852.4186598\n",
      "Step: 150 Reduce Mean:  14854.7460712\n",
      "Step: 160 Reduce Mean:  14932.5581813\n",
      "Step: 170 Reduce Mean:  14915.5501709\n",
      "Step: 180 Reduce Mean:  14929.9744376\n"
     ]
    }
   ],
   "source": [
    "# tesnorflow\n",
    "with tf.Session() as sess:\n",
    "    sess.run(tf.global_variables_initializer())\n",
    "    for step in range(len(stock_train)):\n",
    "        sess.run(train)\n",
    "        if step % 10 == 0 or step == len(stock_valid) - 1:\n",
    "            print(\"Step: %3d\" % (step), \"Reduce Mean: \", sess.run(diff))"
   ]
  },
  {
   "cell_type": "code",
   "execution_count": null,
   "metadata": {
    "collapsed": true
   },
   "outputs": [],
   "source": []
  }
 ],
 "metadata": {
  "kernelspec": {
   "display_name": "Python 3",
   "language": "python",
   "name": "python3"
  },
  "language_info": {
   "codemirror_mode": {
    "name": "ipython",
    "version": 3
   },
   "file_extension": ".py",
   "mimetype": "text/x-python",
   "name": "python",
   "nbconvert_exporter": "python",
   "pygments_lexer": "ipython3",
   "version": "3.5.2"
  }
 },
 "nbformat": 4,
 "nbformat_minor": 2
}
