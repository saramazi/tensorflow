{
 "cells": [
  {
   "cell_type": "code",
   "execution_count": 2,
   "metadata": {
    "collapsed": false
   },
   "outputs": [
    {
     "name": "stdout",
     "output_type": "stream",
     "text": [
      "matrix1 =\n",
      "[[2 2 2]\n",
      " [2 2 2]\n",
      " [2 2 2]]\n",
      "matrix2 =\n",
      "[[1 1 1]\n",
      " [1 1 1]\n",
      " [1 1 1]]\n",
      "matrix3 =\n",
      "[[ 2.  7.  2.]\n",
      " [ 1.  4.  2.]\n",
      " [ 9.  0.  2.]]\n",
      "matrix1 * matrix2 = \n",
      "[[6 6 6]\n",
      " [6 6 6]\n",
      " [6 6 6]]\n",
      "matrix1 + matrix2 = \n",
      "[[3 3 3]\n",
      " [3 3 3]\n",
      " [3 3 3]]\n",
      "matrix3 determinant result = \n",
      "56.0\n"
     ]
    }
   ],
   "source": [
    "import tensorflow as tf\n",
    "import numpy as np\n",
    "\n",
    "matrix1 = np.array([(2, 2, 2), (2 ,2, 2), (2, 2, 2)], dtype = \"int32\")\n",
    "matrix2 = np.array([(1, 1, 1), (1, 1, 1), (1, 1, 1)], dtype = \"int32\")\n",
    "\n",
    "print(\"matrix1 =\")\n",
    "print(matrix1)\n",
    "\n",
    "print(\"matrix2 =\")\n",
    "print(matrix2)\n",
    "\n",
    "matrix1 = tf.constant(matrix1)\n",
    "matrix2 = tf.constant(matrix2)\n",
    "\n",
    "matrix_product = tf.matmul(matrix1, matrix2)\n",
    "matrix_sum = tf.add(matrix1, matrix2)\n",
    "\n",
    "matrix_3 = np.array([(2, 7, 2),(1,4,2),(9,0,2)], dtype = \"float32\")\n",
    "print(\"matrix3 =\")\n",
    "print(matrix_3)\n",
    "\n",
    "matrix_det = tf.matrix_determinant(matrix_3)\n",
    "\n",
    "with tf.Session() as sess:\n",
    "    result1 = sess.run(matrix_product)\n",
    "    result2 = sess.run(matrix_sum)\n",
    "    result3 = sess.run(matrix_det)\n",
    "    \n",
    "print(\"matrix1 * matrix2 = \")\n",
    "print(result1)\n",
    "\n",
    "print(\"matrix1 + matrix2 = \")\n",
    "print(result2)\n",
    "\n",
    "print(\"matrix3 determinant result = \")\n",
    "print(result3)"
   ]
  }
 ],
 "metadata": {
  "kernelspec": {
   "display_name": "Python 3",
   "language": "python",
   "name": "python3"
  },
  "language_info": {
   "codemirror_mode": {
    "name": "ipython",
    "version": 3
   },
   "file_extension": ".py",
   "mimetype": "text/x-python",
   "name": "python",
   "nbconvert_exporter": "python",
   "pygments_lexer": "ipython3",
   "version": "3.5.2"
  }
 },
 "nbformat": 4,
 "nbformat_minor": 2
}
