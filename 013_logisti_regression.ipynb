{
 "cells": [
  {
   "cell_type": "code",
   "execution_count": 1,
   "metadata": {
    "collapsed": false,
    "deletable": true,
    "editable": true
   },
   "outputs": [
    {
     "name": "stdout",
     "output_type": "stream",
     "text": [
      "Extracting /tmp/data/train-images-idx3-ubyte.gz\n",
      "Extracting /tmp/data/train-labels-idx1-ubyte.gz\n",
      "Extracting /tmp/data/t10k-images-idx3-ubyte.gz\n",
      "Extracting /tmp/data/t10k-labels-idx1-ubyte.gz\n",
      "('Epoch:', '0001', 'cost=', '2.040888249')\n",
      "('Epoch:', '0002', 'cost=', '1.651046101')\n",
      "('Epoch:', '0003', 'cost=', '1.391862698')\n",
      "('Epoch:', '0004', 'cost=', '1.215172755')\n",
      "('Epoch:', '0005', 'cost=', '1.089838774')\n",
      "('Epoch:', '0006', 'cost=', '0.997157159')\n",
      "('Epoch:', '0007', 'cost=', '0.926090856')\n",
      "('Epoch:', '0008', 'cost=', '0.869877241')\n",
      "('Epoch:', '0009', 'cost=', '0.824261770')\n",
      "('Epoch:', '0010', 'cost=', '0.786465642')\n",
      "('Epoch:', '0011', 'cost=', '0.754620570')\n",
      "('Epoch:', '0012', 'cost=', '0.727332269')\n",
      "('Epoch:', '0013', 'cost=', '0.703676064')\n",
      "('Epoch:', '0014', 'cost=', '0.682967587')\n",
      "('Epoch:', '0015', 'cost=', '0.664633063')\n",
      "('Epoch:', '0016', 'cost=', '0.648277897')\n",
      "('Epoch:', '0017', 'cost=', '0.633597143')\n",
      "('Epoch:', '0018', 'cost=', '0.620310391')\n",
      "('Epoch:', '0019', 'cost=', '0.608234637')\n",
      "('Epoch:', '0020', 'cost=', '0.597191203')\n",
      "('Epoch:', '0021', 'cost=', '0.587047048')\n",
      "('Epoch:', '0022', 'cost=', '0.577711335')\n",
      "('Epoch:', '0023', 'cost=', '0.569061729')\n",
      "('Epoch:', '0024', 'cost=', '0.561028539')\n",
      "('Epoch:', '0025', 'cost=', '0.553532647')\n",
      "Training phase finished\n"
     ]
    },
    {
     "data": {
      "image/png": "[encoded data removed]",
      "text/plain": [
       "<matplotlib.figure.Figure at 0x7fef19cacf10>"
      ]
     },
     "metadata": {},
     "output_type": "display_data"
    },
    {
     "name": "stdout",
     "output_type": "stream",
     "text": [
      "('Model accuracy:', 0.87849998)\n"
     ]
    }
   ],
   "source": [
    "# Import MINST data\n",
    "from tensorflow.examples.tutorials.mnist import input_data\n",
    "mnist = input_data.read_data_sets(\"/tmp/data/\", one_hot=True)\n",
    "\n",
    "import tensorflow as tf\n",
    "import matplotlib.pyplot as plt\n",
    "\n",
    "# Parameters\n",
    "training_epochs = 25\n",
    "learning_rate = 0.01\n",
    "batch_size = 1000\n",
    "display_step = 1\n",
    "\n",
    "# tf Graph Input\n",
    "x = tf.placeholder(\"float\", [None, 784]) # mnist data image of shape 28*28=784\n",
    "y = tf.placeholder(\"float\", [None, 10]) # 0-9 digits recognition => 10 classes\n",
    "\n",
    "# Create model\n",
    "\n",
    "# Set model weights\n",
    "W = tf.Variable(tf.zeros([784, 10]))\n",
    "b = tf.Variable(tf.zeros([10]))\n",
    "\n",
    "# Construct model\n",
    "activation = tf.nn.softmax(tf.matmul(x, W) + b) # Softmax\n",
    "\n",
    "# Minimize error using cross entropy\n",
    "cross_entropy = y * tf.log(activation)\n",
    "cost = tf.reduce_mean(-tf.reduce_sum(cross_entropy,reduction_indices=1))\n",
    "\n",
    "optimizer = tf.train.GradientDescentOptimizer(learning_rate).minimize(cost) \n",
    "\n",
    "#Plot settings\n",
    "avg_set = []\n",
    "epoch_set=[]\n",
    "\n",
    "# Launch the graph\n",
    "with tf.Session() as sess:\n",
    "    sess.run(tf.global_variables_initializer())\n",
    "\n",
    "    # Training cycle\n",
    "    for epoch in range(training_epochs):\n",
    "        avg_cost = 0.\n",
    "        total_batch = int(mnist.train.num_examples / batch_size)\n",
    "        # Loop over all batches\n",
    "        for i in range(total_batch):\n",
    "            batch_xs, batch_ys = mnist.train.next_batch(batch_size)\n",
    "            # Fit training using batch data\n",
    "            sess.run(optimizer, { x: batch_xs, y: batch_ys })\n",
    "            # Compute average loss\n",
    "            avg_cost += sess.run(cost, { x: batch_xs, y: batch_ys }) / total_batch\n",
    "        # Display logs per epoch step\n",
    "        if epoch % display_step == 0:\n",
    "            print(\"Epoch:\", '%04d' % (epoch+1), \"cost=\", \"{:.9f}\".format(avg_cost))\n",
    "        avg_set.append(avg_cost)\n",
    "        epoch_set.append(epoch+1)\n",
    "    print(\"Training phase finished\")\n",
    "\n",
    "    plt.plot(epoch_set,avg_set, 'o', label='Logistic Regression Training phase')\n",
    "    plt.ylabel('cost')\n",
    "    plt.xlabel('epoch')\n",
    "    plt.legend()\n",
    "    plt.show()\n",
    "\n",
    "    # Test model\n",
    "    correct_prediction = tf.equal(tf.argmax(activation, 1), tf.argmax(y, 1))\n",
    "    # Calculate accuracy\n",
    "    accuracy = tf.reduce_mean(tf.cast(correct_prediction, \"float\"))\n",
    "    print(\"Model accuracy:\", accuracy.eval({x: mnist.test.images, y: mnist.test.labels}))\n"
   ]
  }
 ],
 "metadata": {
  "kernelspec": {
   "display_name": "Python 2",
   "language": "python",
   "name": "python2"
  },
  "language_info": {
   "codemirror_mode": {
    "name": "ipython",
    "version": 2
   },
   "file_extension": ".py",
   "mimetype": "text/x-python",
   "name": "python",
   "nbconvert_exporter": "python",
   "pygments_lexer": "ipython2",
   "version": "2.7.6"
  }
 },
 "nbformat": 4,
 "nbformat_minor": 2
}
