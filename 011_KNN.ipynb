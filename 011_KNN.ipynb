{
 "cells": [
  {
   "cell_type": "code",
   "execution_count": 35,
   "metadata": {
    "collapsed": false,
    "deletable": true,
    "editable": true
   },
   "outputs": [
    {
     "name": "stdout",
     "output_type": "stream",
     "text": [
      "Extracting /tmp/data/train-images-idx3-ubyte.gz\n",
      "Extracting /tmp/data/train-labels-idx1-ubyte.gz\n",
      "Extracting /tmp/data/t10k-images-idx3-ubyte.gz\n",
      "Extracting /tmp/data/t10k-labels-idx1-ubyte.gz\n",
      "Test No: 0, Predicted Class: 7, True Class: 7\n",
      "Test No: 1, Predicted Class: 2, True Class: 2\n",
      "Test No: 2, Predicted Class: 1, True Class: 1\n",
      "Test No: 3, Predicted Class: 0, True Class: 0\n",
      "Test No: 4, Predicted Class: 4, True Class: 4\n",
      "Test No: 5, Predicted Class: 1, True Class: 1\n",
      "Test No: 6, Predicted Class: 4, True Class: 4\n",
      "Test No: 7, Predicted Class: 9, True Class: 9\n",
      "Test No: 8, Predicted Class: 9, True Class: 5\n",
      "Test No: 9, Predicted Class: 9, True Class: 9\n",
      "Test No: 10, Predicted Class: 0, True Class: 0\n",
      "Test No: 11, Predicted Class: 6, True Class: 6\n",
      "Test No: 12, Predicted Class: 9, True Class: 9\n",
      "Test No: 13, Predicted Class: 0, True Class: 0\n",
      "Test No: 14, Predicted Class: 1, True Class: 1\n",
      "Test No: 15, Predicted Class: 5, True Class: 5\n",
      "Test No: 16, Predicted Class: 4, True Class: 9\n",
      "Test No: 17, Predicted Class: 7, True Class: 7\n",
      "Test No: 18, Predicted Class: 3, True Class: 3\n",
      "Test No: 19, Predicted Class: 4, True Class: 4\n",
      "Test No: 20, Predicted Class: 9, True Class: 9\n",
      "Test No: 21, Predicted Class: 6, True Class: 6\n",
      "Test No: 22, Predicted Class: 6, True Class: 6\n",
      "Test No: 23, Predicted Class: 5, True Class: 5\n",
      "Test No: 24, Predicted Class: 4, True Class: 4\n",
      "Test No: 25, Predicted Class: 0, True Class: 0\n",
      "Test No: 26, Predicted Class: 7, True Class: 7\n",
      "Test No: 27, Predicted Class: 4, True Class: 4\n",
      "Test No: 28, Predicted Class: 0, True Class: 0\n",
      "Test No: 29, Predicted Class: 1, True Class: 1\n",
      "Test No: 30, Predicted Class: 3, True Class: 3\n",
      "Test No: 31, Predicted Class: 1, True Class: 1\n",
      "Test No: 32, Predicted Class: 3, True Class: 3\n",
      "Test No: 33, Predicted Class: 4, True Class: 4\n",
      "Test No: 34, Predicted Class: 7, True Class: 7\n",
      "Test No: 35, Predicted Class: 2, True Class: 2\n",
      "Test No: 36, Predicted Class: 7, True Class: 7\n",
      "Test No: 37, Predicted Class: 1, True Class: 1\n",
      "Test No: 38, Predicted Class: 2, True Class: 2\n",
      "Test No: 39, Predicted Class: 1, True Class: 1\n",
      "Test No: 40, Predicted Class: 1, True Class: 1\n",
      "Test No: 41, Predicted Class: 7, True Class: 7\n",
      "Test No: 42, Predicted Class: 4, True Class: 4\n",
      "Test No: 43, Predicted Class: 1, True Class: 2\n",
      "Test No: 44, Predicted Class: 1, True Class: 3\n",
      "Test No: 45, Predicted Class: 5, True Class: 5\n",
      "Test No: 46, Predicted Class: 1, True Class: 1\n",
      "Test No: 47, Predicted Class: 2, True Class: 2\n",
      "Test No: 48, Predicted Class: 4, True Class: 4\n",
      "Test No: 49, Predicted Class: 4, True Class: 4\n",
      "Result = 0.92\n"
     ]
    }
   ],
   "source": [
    "import numpy as np\n",
    "import tensorflow as tf\n",
    "from tensorflow.examples.tutorials.mnist import input_data\n",
    "#Build the Training Set\n",
    "\n",
    "mnist = input_data.read_data_sets(\"/tmp/data/\", one_hot=True)\n",
    "\n",
    "train_pixels, train_list_values = mnist.train.next_batch(1000) \n",
    "test_pixels, test_list_of_values = mnist.test.next_batch(50)\n",
    "\n",
    "train_pixel_tensor = tf.placeholder(\"float\", [None, 784], name = 'train')\n",
    "test_pixel_tensor = tf.placeholder(\"float\", [784], name = 'test')\n",
    "\n",
    "#Cost Function and distance optimization\n",
    "distance = tf.reduce_sum(tf.abs(tf.add(train_pixel_tensor, tf.negativse(test_pixel_tensor))), reduction_indices=1)\n",
    "pred = tf.arg_min(distance, 0)\n",
    "\n",
    "# Testing and algorithm evaluation\n",
    "accuracy = 0.\n",
    "init = tf.global_variables_initializer()\n",
    "with tf.Session() as sess:\n",
    "    sess.run(init)\n",
    "    for i in range(len(test_list_of_values)):\n",
    "        nn_index = sess.run(pred, { train_pixel_tensor: train_pixels, test_pixel_tensor: test_pixels[i] })\n",
    "        print(\"Test No: {0}, Predicted Class: {1}, True Class: {2}\".format(i, np.argmax(train_list_values[nn_index]), np.argmax(test_list_of_values[i])))\n",
    "        if np.argmax(train_list_values[nn_index]) == np.argmax(test_list_of_values[i]):\n",
    "            accuracy += 1. / len(test_pixels)\n",
    "\n",
    "print(\"Result = {}\".format(accuracy))"
   ]
  }
 ],
 "metadata": {
  "kernelspec": {
   "display_name": "Python 2",
   "language": "python",
   "name": "python2"
  },
  "language_info": {
   "codemirror_mode": {
    "name": "ipython",
    "version": 2
   },
   "file_extension": ".py",
   "mimetype": "text/x-python",
   "name": "python",
   "nbconvert_exporter": "python",
   "pygments_lexer": "ipython2",
   "version": "2.7.6"
  }
 },
 "nbformat": 4,
 "nbformat_minor": 2
}
