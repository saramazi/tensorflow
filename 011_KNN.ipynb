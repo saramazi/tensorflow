{
 "cells": [
  {
   "cell_type": "code",
   "execution_count": null,
   "metadata": {
    "collapsed": false
   },
   "outputs": [
    {
     "name": "stdout",
     "output_type": "stream",
     "text": [
      "Extracting /tmp/data/train-images-idx3-ubyte.gz\n",
      "Extracting /tmp/data/train-labels-idx1-ubyte.gz\n",
      "Extracting /tmp/data/t10k-images-idx3-ubyte.gz\n",
      "Extracting /tmp/data/t10k-labels-idx1-ubyte.gz\n"
     ]
    }
   ],
   "source": [
    "import numpy as np\n",
    "import tensorflow as tf\n",
    "from tensorflow.examples.tutorials.mnist import input_data\n",
    "#Build the Training Set\n",
    "\n",
    "mnist = input_data.read_data_sets(\"/tmp/data/\", one_hot=True)\n",
    "\n",
    "train_pixels, train_list_values = mnist.train.next_batch(1000) \n",
    "test_pixels, test_list_of_values = mnist.test.next_batch(10) \n",
    "\n",
    "train_pixel_tensor = tf.placeholder(\"float\", [None, 784])\n",
    "test_pixel_tensor = tf.placeholder(\"float\", [784])\n",
    "\n",
    "#Cost Function and distance optimization\n",
    "distance = tf.reduce_sum(tf.abs(tf.add(train_pixel_tensor, tf.negative(test_pixel_tensor))), reduction_indices=1)\n",
    "\n",
    "pred = tf.arg_min(distance, 0)\n",
    "\n",
    "# Testing and algorithm evaluation\n",
    "\n",
    "accuracy = 0.\n",
    "init = tf.global_variables_initializer()\n",
    "with tf.Session() as sess:\n",
    "    sess.run(init)\n",
    "    for i in range(len(test_list_of_values)):\n",
    "        distantce_result = sess.run(distance, { train_pixel_tensor: train_pixels, test_pixel_tensor: test_pixels[i,:] })\n",
    "        print(\"{0}: {1}\".format(i, distantce_result))\n"
   ]
  }
 ],
 "metadata": {
  "kernelspec": {
   "display_name": "Python 3",
   "language": "python",
   "name": "python3"
  },
  "language_info": {
   "codemirror_mode": {
    "name": "ipython",
    "version": 3
   },
   "file_extension": ".py",
   "mimetype": "text/x-python",
   "name": "python",
   "nbconvert_exporter": "python",
   "pygments_lexer": "ipython3",
   "version": "3.5.2"
  }
 },
 "nbformat": 4,
 "nbformat_minor": 2
}
